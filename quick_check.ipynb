{
 "cells": [
  {
   "cell_type": "code",
   "execution_count": 2,
   "id": "8bbcf47b",
   "metadata": {},
   "outputs": [
    {
     "name": "stdout",
     "output_type": "stream",
     "text": [
      "   submitter_id                               case_id    primary_diagnosis  \\\n",
      "0  TCGA-DC-6158  0011a67b-1ba9-4a32-a6b8-7850759a38cf  Adenocarcinoma, NOS   \n",
      "1  TCGA-F4-6854  01240896-3f3f-4bf9-9799-55c87bfacf36  Adenocarcinoma, NOS   \n",
      "2  TCGA-DC-5337  016c9c14-4c88-49f5-a11a-dd4bc282f11e  Adenocarcinoma, NOS   \n",
      "\n",
      "   gender age_at_diagnosis tumor_stage  metastasis_status vital_status  \\\n",
      "0    male            25842     Stage I                0.0         Dead   \n",
      "1  female            28272   Stage IIA                0.0        Alive   \n",
      "2    male            25202     Stage I                0.0        Alive   \n",
      "\n",
      "  days_to_death  \n",
      "0           334  \n",
      "1           '--  \n",
      "2           '--  \n",
      "metastasis_status\n",
      "0.0    456\n",
      "NaN    111\n",
      "1.0     66\n",
      "Name: count, dtype: int64\n"
     ]
    }
   ],
   "source": [
    "import pandas as pd\n",
    "m = pd.read_csv(\"data/raw/tcga/tcga_clinical_manifest.csv\")\n",
    "print(m.head(3))\n",
    "print(m[\"metastasis_status\"].value_counts(dropna=False))\n"
   ]
  }
 ],
 "metadata": {
  "kernelspec": {
   "display_name": "crlm",
   "language": "python",
   "name": "python3"
  },
  "language_info": {
   "codemirror_mode": {
    "name": "ipython",
    "version": 3
   },
   "file_extension": ".py",
   "mimetype": "text/x-python",
   "name": "python",
   "nbconvert_exporter": "python",
   "pygments_lexer": "ipython3",
   "version": "3.10.18"
  }
 },
 "nbformat": 4,
 "nbformat_minor": 5
}
