{
 "cells": [
  {
   "cell_type": "code",
   "execution_count": 2,
   "id": "f524af96",
   "metadata": {},
   "outputs": [
    {
     "ename": "SystemExit",
     "evalue": "No DICOM files found yet. Wait for NBIA to finish or point to a completed folder.",
     "output_type": "error",
     "traceback": [
      "An exception has occurred, use %tb to see the full traceback.\n",
      "\u001b[1;31mSystemExit\u001b[0m\u001b[1;31m:\u001b[0m No DICOM files found yet. Wait for NBIA to finish or point to a completed folder.\n"
     ]
    }
   ],
   "source": [
    "import SimpleITK as sitk\n",
    "import os, glob, numpy as np\n",
    "import matplotlib.pyplot as plt\n",
    "\n",
    "# Point to any downloaded series folder under data/raw/tcia\n",
    "root = \"data/raw/tcia\"\n",
    "# try to find a leaf folder with DICOMs\n",
    "candidates = []\n",
    "for p, d, f in os.walk(root):\n",
    "    if any(x.lower().endswith(\".dcm\") for x in f):\n",
    "        candidates.append(p)\n",
    "        break\n",
    "\n",
    "if not candidates:\n",
    "    raise SystemExit(\"No DICOM files found yet. Wait for NBIA to finish or point to a completed folder.\")\n",
    "\n",
    "series_dir = candidates[0]\n",
    "series_ids = sitk.ImageSeriesReader.GetGDCMSeriesIDs(series_dir)\n",
    "if not series_ids:\n",
    "    raise SystemExit(f\"No DICOM series IDs found in {series_dir}.\")\n",
    "\n",
    "files = sitk.ImageSeriesReader.GetGDCMSeriesFileNames(series_dir, series_ids[0])\n",
    "img = sitk.ReadImage(files)\n",
    "arr = sitk.GetArrayFromImage(img)  # [z,y,x]\n",
    "print(\"Volume shape [z,y,x]:\", arr.shape)\n",
    "\n",
    "mid = arr.shape[0]//2\n",
    "plt.imshow(arr[mid], cmap=\"gray\")\n",
    "plt.title(f\"Mid-slice: {series_dir}\")\n",
    "plt.axis('off')\n",
    "plt.show()\n"
   ]
  }
 ],
 "metadata": {
  "kernelspec": {
   "display_name": "crlm",
   "language": "python",
   "name": "python3"
  },
  "language_info": {
   "codemirror_mode": {
    "name": "ipython",
    "version": 3
   },
   "file_extension": ".py",
   "mimetype": "text/x-python",
   "name": "python",
   "nbconvert_exporter": "python",
   "pygments_lexer": "ipython3",
   "version": "3.10.18"
  }
 },
 "nbformat": 4,
 "nbformat_minor": 5
}
