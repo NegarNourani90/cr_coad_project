{
 "cells": [
  {
   "cell_type": "code",
   "execution_count": 1,
   "id": "476ede68",
   "metadata": {},
   "outputs": [
    {
     "name": "stdout",
     "output_type": "stream",
     "text": [
      "Found series: ('1.3.6.1.4.1.14519.5.2.1.9203.8273.370971589400256299984427146600',)\n",
      "shape: (1, 439, 512, 512) spacing: (1.0, 1.0, 1.0, 1.0)\n"
     ]
    }
   ],
   "source": [
    "import os, SimpleITK as sitk\n",
    "\n",
    "root = r\"C:\\Users\\Negar\\Desktop\\paper_results\\Myself\\cr_coad_project\\data\\raw\\tcia\"\n",
    "\n",
    "# find a folder that already has some .dcm files (NBIA may still be downloading)\n",
    "dcm_dir = None\n",
    "for r, d, f in os.walk(root):\n",
    "    if any(x.lower().endswith(\".dcm\") for x in f):\n",
    "        dcm_dir = r\n",
    "        break\n",
    "\n",
    "if dcm_dir is None:\n",
    "    raise SystemExit(\"No DICOM files found yet. Let NBIA run a bit longer, then re-run this cell.\")\n",
    "\n",
    "series_ids = sitk.ImageSeriesReader.GetGDCMSeriesIDs(dcm_dir)\n",
    "print(\"Found series:\", series_ids[:3])\n",
    "\n",
    "files = sitk.ImageSeriesReader.GetGDCMSeriesFileNames(dcm_dir, series_ids[0])\n",
    "img = sitk.ReadImage(files)\n",
    "arr = sitk.GetArrayFromImage(img)   # [z, y, x]\n",
    "print(\"shape:\", arr.shape, \"spacing:\", img.GetSpacing())\n"
   ]
  }
 ],
 "metadata": {
  "kernelspec": {
   "display_name": "crlm",
   "language": "python",
   "name": "python3"
  },
  "language_info": {
   "codemirror_mode": {
    "name": "ipython",
    "version": 3
   },
   "file_extension": ".py",
   "mimetype": "text/x-python",
   "name": "python",
   "nbconvert_exporter": "python",
   "pygments_lexer": "ipython3",
   "version": "3.10.18"
  }
 },
 "nbformat": 4,
 "nbformat_minor": 5
}
