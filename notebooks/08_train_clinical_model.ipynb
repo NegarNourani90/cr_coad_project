{
 "cells": [
  {
   "cell_type": "code",
   "execution_count": 2,
   "id": "41fd04a4",
   "metadata": {},
   "outputs": [
    {
     "name": "stdout",
     "output_type": "stream",
     "text": [
      "<class 'pandas.core.frame.DataFrame'>\n",
      "RangeIndex: 633 entries, 0 to 632\n",
      "Data columns (total 9 columns):\n",
      " #   Column             Non-Null Count  Dtype  \n",
      "---  ------             --------------  -----  \n",
      " 0   submitter_id       633 non-null    object \n",
      " 1   case_id            633 non-null    object \n",
      " 2   primary_diagnosis  633 non-null    object \n",
      " 3   gender             633 non-null    object \n",
      " 4   age_at_diagnosis   633 non-null    object \n",
      " 5   tumor_stage        633 non-null    object \n",
      " 6   metastasis_status  522 non-null    float64\n",
      " 7   vital_status       633 non-null    object \n",
      " 8   days_to_death      633 non-null    object \n",
      "dtypes: float64(1), object(8)\n",
      "memory usage: 44.6+ KB\n"
     ]
    }
   ],
   "source": [
    "import pandas as pd\n",
    "from pathlib import Path\n",
    "\n",
    "clinical_path = Path(\"C:/Users/Negar/Desktop/paper_results/Myself/cr_coad_project/data/raw/tcga/tcga_clinical_manifest.csv\")\n",
    "df = pd.read_csv(clinical_path)\n",
    "df.head()\n",
    "df.info()\n"
   ]
  },
  {
   "cell_type": "code",
   "execution_count": 3,
   "id": "695ad9e6",
   "metadata": {},
   "outputs": [
    {
     "name": "stderr",
     "output_type": "stream",
     "text": [
      "C:\\Users\\Negar\\AppData\\Local\\Temp\\ipykernel_2356\\1407202859.py:11: FutureWarning: A value is trying to be set on a copy of a DataFrame or Series through chained assignment using an inplace method.\n",
      "The behavior will change in pandas 3.0. This inplace method will never work because the intermediate object on which we are setting values always behaves as a copy.\n",
      "\n",
      "For example, when doing 'df[col].method(value, inplace=True)', try using 'df.method({col: value}, inplace=True)' or df[col] = df[col].method(value) instead, to perform the operation inplace on the original object.\n",
      "\n",
      "\n",
      "  df[\"tumor_stage\"].fillna(df[\"tumor_stage\"].median(), inplace=True)\n"
     ]
    }
   ],
   "source": [
    "keep_cols = [\"gender\", \"age_at_diagnosis\", \"tumor_stage\", \"metastasis_status\"]\n",
    "df = df[keep_cols].copy()\n",
    "\n",
    "# Convert categorical → numeric\n",
    "df[\"gender\"] = df[\"gender\"].map({\"male\": 0, \"female\": 1})\n",
    "stage_map = {\n",
    "    \"Stage I\": 1, \"Stage II\": 2, \"Stage IIA\": 2, \"Stage IIB\": 2,\n",
    "    \"Stage III\": 3, \"Stage IIIC\": 3, \"Stage IV\": 4\n",
    "}\n",
    "df[\"tumor_stage\"] = df[\"tumor_stage\"].map(stage_map)\n",
    "df[\"tumor_stage\"].fillna(df[\"tumor_stage\"].median(), inplace=True)\n",
    "\n",
    "# Target\n",
    "df[\"metastasis_status\"] = df[\"metastasis_status\"].fillna(0).astype(int)\n"
   ]
  },
  {
   "cell_type": "code",
   "execution_count": 4,
   "id": "94cc7381",
   "metadata": {},
   "outputs": [
    {
     "name": "stdout",
     "output_type": "stream",
     "text": [
      "✅ Saved: C:\\Users\\Negar\\Desktop\\paper_results\\Myself\\cr_coad_project\\data\\processed\\clinical\\clinical_features.csv\n"
     ]
    }
   ],
   "source": [
    "out_path = Path(\"C:/Users/Negar/Desktop/paper_results/Myself/cr_coad_project/data/processed/clinical/clinical_features.csv\")\n",
    "out_path.parent.mkdir(parents=True, exist_ok=True)\n",
    "df.to_csv(out_path, index=False)\n",
    "print(\"✅ Saved:\", out_path)\n"
   ]
  },
  {
   "cell_type": "code",
   "execution_count": 5,
   "id": "58b21db2",
   "metadata": {},
   "outputs": [],
   "source": [
    "from sklearn.model_selection import train_test_split\n",
    "\n",
    "X = df.drop(columns=[\"metastasis_status\"])\n",
    "y = df[\"metastasis_status\"]\n",
    "\n",
    "X_train, X_test, y_train, y_test = train_test_split(\n",
    "    X, y, test_size=0.2, stratify=y, random_state=42)\n"
   ]
  },
  {
   "cell_type": "code",
   "execution_count": 7,
   "id": "52dbb4dc",
   "metadata": {},
   "outputs": [],
   "source": [
    "# Convert numeric-looking columns to float\n",
    "for col in X_train.columns:\n",
    "    if X_train[col].dtype == 'object':\n",
    "        try:\n",
    "            X_train[col] = X_train[col].astype(float)\n",
    "            X_test[col] = X_test[col].astype(float)\n",
    "        except:\n",
    "            # If conversion fails, encode as category codes\n",
    "            X_train[col] = X_train[col].astype('category').cat.codes\n",
    "            X_test[col] = X_test[col].astype('category').cat.codes"
   ]
  },
  {
   "cell_type": "code",
   "execution_count": 15,
   "id": "d5f6bc7f",
   "metadata": {},
   "outputs": [
    {
     "name": "stderr",
     "output_type": "stream",
     "text": [
      "C:\\Users\\Negar\\AppData\\Local\\Temp\\ipykernel_2356\\1143857505.py:6: FutureWarning: A value is trying to be set on a copy of a DataFrame or Series through chained assignment using an inplace method.\n",
      "The behavior will change in pandas 3.0. This inplace method will never work because the intermediate object on which we are setting values always behaves as a copy.\n",
      "\n",
      "For example, when doing 'df[col].method(value, inplace=True)', try using 'df.method({col: value}, inplace=True)' or df[col] = df[col].method(value) instead, to perform the operation inplace on the original object.\n",
      "\n",
      "\n",
      "  X_train[\"age_at_diagnosis\"].fillna(X_train[\"age_at_diagnosis\"].median(), inplace=True)\n",
      "C:\\Users\\Negar\\AppData\\Local\\Temp\\ipykernel_2356\\1143857505.py:7: FutureWarning: A value is trying to be set on a copy of a DataFrame or Series through chained assignment using an inplace method.\n",
      "The behavior will change in pandas 3.0. This inplace method will never work because the intermediate object on which we are setting values always behaves as a copy.\n",
      "\n",
      "For example, when doing 'df[col].method(value, inplace=True)', try using 'df.method({col: value}, inplace=True)' or df[col] = df[col].method(value) instead, to perform the operation inplace on the original object.\n",
      "\n",
      "\n",
      "  X_test[\"age_at_diagnosis\"].fillna(X_train[\"age_at_diagnosis\"].median(), inplace=True)\n",
      "C:\\Users\\Negar\\AppData\\Local\\Temp\\ipykernel_2356\\1143857505.py:11: FutureWarning: A value is trying to be set on a copy of a DataFrame or Series through chained assignment using an inplace method.\n",
      "The behavior will change in pandas 3.0. This inplace method will never work because the intermediate object on which we are setting values always behaves as a copy.\n",
      "\n",
      "For example, when doing 'df[col].method(value, inplace=True)', try using 'df.method({col: value}, inplace=True)' or df[col] = df[col].method(value) instead, to perform the operation inplace on the original object.\n",
      "\n",
      "\n",
      "  X_train[\"gender\"].fillna(X_train[\"gender\"].mode()[0], inplace=True)\n",
      "C:\\Users\\Negar\\AppData\\Local\\Temp\\ipykernel_2356\\1143857505.py:12: FutureWarning: A value is trying to be set on a copy of a DataFrame or Series through chained assignment using an inplace method.\n",
      "The behavior will change in pandas 3.0. This inplace method will never work because the intermediate object on which we are setting values always behaves as a copy.\n",
      "\n",
      "For example, when doing 'df[col].method(value, inplace=True)', try using 'df.method({col: value}, inplace=True)' or df[col] = df[col].method(value) instead, to perform the operation inplace on the original object.\n",
      "\n",
      "\n",
      "  X_test[\"gender\"].fillna(X_train[\"gender\"].mode()[0], inplace=True)\n"
     ]
    }
   ],
   "source": [
    "# Fix for age_at_diagnosis\n",
    "X_train[\"age_at_diagnosis\"] = pd.to_numeric(X_train[\"age_at_diagnosis\"], errors='coerce')\n",
    "X_test[\"age_at_diagnosis\"] = pd.to_numeric(X_test[\"age_at_diagnosis\"], errors='coerce')\n",
    "\n",
    "# Fill any NaNs (from conversion errors) with median\n",
    "X_train[\"age_at_diagnosis\"].fillna(X_train[\"age_at_diagnosis\"].median(), inplace=True)\n",
    "X_test[\"age_at_diagnosis\"].fillna(X_train[\"age_at_diagnosis\"].median(), inplace=True)\n",
    "\n",
    "\n",
    "# Handle missing gender values (replace NaN with mode)\n",
    "X_train[\"gender\"].fillna(X_train[\"gender\"].mode()[0], inplace=True)\n",
    "X_test[\"gender\"].fillna(X_train[\"gender\"].mode()[0], inplace=True)"
   ]
  },
  {
   "cell_type": "code",
   "execution_count": 16,
   "id": "e6be5cea",
   "metadata": {},
   "outputs": [
    {
     "name": "stdout",
     "output_type": "stream",
     "text": [
      "Accuracy: 0.9763779527559056\n",
      "AUC: 0.9298245614035088\n",
      "F1: 0.8695652173913043\n",
      "[[114   0]\n",
      " [  3  10]]\n",
      "              precision    recall  f1-score   support\n",
      "\n",
      "           0       0.97      1.00      0.99       114\n",
      "           1       1.00      0.77      0.87        13\n",
      "\n",
      "    accuracy                           0.98       127\n",
      "   macro avg       0.99      0.88      0.93       127\n",
      "weighted avg       0.98      0.98      0.97       127\n",
      "\n"
     ]
    }
   ],
   "source": [
    "from xgboost import XGBClassifier\n",
    "from sklearn.metrics import accuracy_score, roc_auc_score, f1_score, confusion_matrix, classification_report\n",
    "\n",
    "xgb = XGBClassifier(\n",
    "    n_estimators=200, max_depth=3, learning_rate=0.05, subsample=0.8, random_state=42)\n",
    "xgb.fit(X_train, y_train)\n",
    "\n",
    "y_pred = xgb.predict(X_test)\n",
    "y_prob = xgb.predict_proba(X_test)[:,1]\n",
    "\n",
    "print(\"Accuracy:\", accuracy_score(y_test, y_pred))\n",
    "print(\"AUC:\", roc_auc_score(y_test, y_prob))\n",
    "print(\"F1:\", f1_score(y_test, y_pred))\n",
    "print(confusion_matrix(y_test, y_pred))\n",
    "print(classification_report(y_test, y_pred))\n"
   ]
  },
  {
   "cell_type": "code",
   "execution_count": 11,
   "id": "38acc42b",
   "metadata": {},
   "outputs": [
    {
     "name": "stderr",
     "output_type": "stream",
     "text": [
      "C:\\Users\\Negar\\AppData\\Local\\Temp\\ipykernel_2356\\2445035677.py:2: FutureWarning: A value is trying to be set on a copy of a DataFrame or Series through chained assignment using an inplace method.\n",
      "The behavior will change in pandas 3.0. This inplace method will never work because the intermediate object on which we are setting values always behaves as a copy.\n",
      "\n",
      "For example, when doing 'df[col].method(value, inplace=True)', try using 'df.method({col: value}, inplace=True)' or df[col] = df[col].method(value) instead, to perform the operation inplace on the original object.\n",
      "\n",
      "\n",
      "  X_train[\"gender\"].fillna(X_train[\"gender\"].mode()[0], inplace=True)\n",
      "C:\\Users\\Negar\\AppData\\Local\\Temp\\ipykernel_2356\\2445035677.py:3: FutureWarning: A value is trying to be set on a copy of a DataFrame or Series through chained assignment using an inplace method.\n",
      "The behavior will change in pandas 3.0. This inplace method will never work because the intermediate object on which we are setting values always behaves as a copy.\n",
      "\n",
      "For example, when doing 'df[col].method(value, inplace=True)', try using 'df.method({col: value}, inplace=True)' or df[col] = df[col].method(value) instead, to perform the operation inplace on the original object.\n",
      "\n",
      "\n",
      "  X_test[\"gender\"].fillna(X_train[\"gender\"].mode()[0], inplace=True)\n"
     ]
    }
   ],
   "source": [
    "# Handle missing gender values (replace NaN with mode)\n",
    "X_train[\"gender\"].fillna(X_train[\"gender\"].mode()[0], inplace=True)\n",
    "X_test[\"gender\"].fillna(X_train[\"gender\"].mode()[0], inplace=True)\n"
   ]
  },
  {
   "cell_type": "code",
   "execution_count": null,
   "id": "898bb5ad",
   "metadata": {},
   "outputs": [
    {
     "data": {
      "text/plain": [
       "gender              float64\n",
       "age_at_diagnosis      int16\n",
       "tumor_stage         float64\n",
       "dtype: object"
      ]
     },
     "execution_count": 9,
     "metadata": {},
     "output_type": "execute_result"
    }
   ],
   "source": [
    "X_train.dtypes\n",
    "# Detect non-numeric entries in numeric-looking columns\n",
    "for col in X_train.columns:\n",
    "    bad_values = X_train[pd.to_numeric(X_train[col], errors='coerce').isna()][col].unique()\n",
    "    if len(bad_values) > 0:\n",
    "        print(f\"⚠️ Column '{col}' has non-numeric values:\", bad_values)"
   ]
  },
  {
   "cell_type": "code",
   "execution_count": 19,
   "id": "5d12858f",
   "metadata": {},
   "outputs": [
    {
     "name": "stdout",
     "output_type": "stream",
     "text": [
      "EBM AUC: 0.9278002699055331\n"
     ]
    }
   ],
   "source": [
    "# Explainable Boosting Machine\n",
    "from interpret.glassbox import ExplainableBoostingClassifier\n",
    "\n",
    "ebm = ExplainableBoostingClassifier(random_state=42)\n",
    "ebm.fit(X_train, y_train)\n",
    "print(\"EBM AUC:\", roc_auc_score(y_test, ebm.predict_proba(X_test)[:,1]))\n"
   ]
  },
  {
   "cell_type": "code",
   "execution_count": null,
   "id": "a27eda55",
   "metadata": {},
   "outputs": [
    {
     "name": "stdout",
     "output_type": "stream",
     "text": [
      "✅ Working directory: C:\\Users\\Negar\\Desktop\\paper_results\\Myself\\cr_coad_project\n"
     ]
    }
   ],
   "source": [
    "# SAVE RESULTS\n",
    "import os\n",
    "os.chdir(r\"C:\\Users\\Negar\\Desktop\\paper_results\\Myself\\cr_coad_project\")\n",
    "print(\"✅ Working directory:\", os.getcwd())\n",
    "\n",
    "Path(\"results/clinical\").mkdir(parents=True, exist_ok=True)\n",
    "pd.DataFrame({\n",
    "    \"model\": [\"xgboost\"],\n",
    "    \"accuracy\": [accuracy_score(y_test, y_pred)],\n",
    "    \"auc\": [roc_auc_score(y_test, y_prob)],\n",
    "    \"f1\": [f1_score(y_test, y_pred)]\n",
    "}).to_csv(\"results/clinical/eval_metrics.csv\", index=False)\n"
   ]
  }
 ],
 "metadata": {
  "kernelspec": {
   "display_name": "crlm",
   "language": "python",
   "name": "python3"
  },
  "language_info": {
   "codemirror_mode": {
    "name": "ipython",
    "version": 3
   },
   "file_extension": ".py",
   "mimetype": "text/x-python",
   "name": "python",
   "nbconvert_exporter": "python",
   "pygments_lexer": "ipython3",
   "version": "3.10.18"
  }
 },
 "nbformat": 4,
 "nbformat_minor": 5
}
